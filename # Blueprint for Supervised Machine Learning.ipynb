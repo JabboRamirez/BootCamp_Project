# Blueprint for Supervised Learning Models to Predict a House Price

1. Problem definition

In the supervised regression model used in this project, the price of a house will be predicted using multiple 
features/characteristics of different houses. To meet this objective it is important to undersatand which of the 
features, such as area, number of rooms, amenities, affect a house price and integrated  to the model. The predicted 
price will focus on correlation between the different features and the last sale price, which is provided in the data set.

The residential real state market is a business environment were buyers and sellers deal with properties available among 
diferent areas with innumerable set of characteristics that drive the price of a house. To have a a prediction model could 
help buyers and sellers to plan their budgets and understand the trend of housing prices within distinct locations.

The data used in this project was extratec from kaggle prediction competition https://www.kaggle.com/c/house-prices-advanced-regression-techniques/overview,
which was compiled by Dean De Cook in 2011 with educational purposes. The data set observes the most recent sale price of 1459 
unique residential properties in Ames, Iowa, during a period between 2006 and 2010, and 80 of its different quantitative and 
qualitative features at the moment when the sale happened.

2. Getting started >> loading the data and Python packages
>> Python packages

Below you will find the libraries used for data loading, analysis, preparation and model development. 

2.1 Libraries used to import, analise and cleanse the data 

import pandas as pd
import os
import seaborn as sns
import matplotlib.pyplot as plt
from sklearn.preprocessing import LabelEncoder

2.2. Loading the data
THe train and test file, both .csv were uploaded using os module from python

file_to_load = os.path.join("Resources", "train.csv")
train = pd.read_csv(file_to_load) 

file_to_load = os.path.join("Resources", "test.csv")
test = pd.read_csv(file_to_load)

3. Exploratory data analysis

3.1 Dataset features:
train.head()

Id	MSSubClass	MSZoning	LotFrontage	LotArea	Street	Alley	LotShape	LandContour	Utilities	...	PoolArea	PoolQC	Fence	MiscFeature	MiscVal	MoSold	YrSold	SaleType	SaleCondition	SalePrice
0	1	60	RL	65.0	8450	Pave	NaN	Reg	Lvl	AllPub	...	0	NaN	NaN	NaN	0	2	2008	WD	Normal	208500
1	2	20	RL	80.0	9600	Pave	NaN	Reg	Lvl	AllPub	...	0	NaN	NaN	NaN	0	5	2007	WD	Normal	181500
2	3	60	RL	68.0	11250	Pave	NaN	IR1	Lvl	AllPub	...	0	NaN	NaN	NaN	0	9	2008	WD	Normal	223500
3	4	70	RL	60.0	9550	Pave	NaN	IR1	Lvl	AllPub	...	0	NaN	NaN	NaN	0	2	2006	WD	Abnorml	140000
4	5	60	RL	84.0	14260	Pave	NaN	IR1	Lvl	AllPub	...	0	NaN	NaN	NaN	0	12	2008	WD	Normal	250000

5 rows × 81 columns
This data contains 1460 rows and 81 columns (including headers and Id)
dtypes: float64(3), int64(35), object(43)

3.2 Dataset statistics:
The fastest way to undersatand the data is to have look of the statistics of the dataset:
train.decribe()

	Id	MSSubClass	LotFrontage	LotArea	OverallQual	OverallCond	YearBuilt	YearRemodAdd	MasVnrArea	BsmtFinSF1	...	WoodDeckSF	OpenPorchSF	EnclosedPorch	3SsnPorch	ScreenPorch	PoolArea	MiscVal	MoSold	YrSold	SalePrice
count	1460.000000	1460.000000	1201.000000	1460.000000	1460.000000	1460.000000	1460.000000	1460.000000	1452.000000	1460.000000	...	1460.000000	1460.000000	1460.000000	1460.000000	1460.000000	1460.000000	1460.000000	1460.000000	1460.000000	1460.000000
mean	730.500000	56.897260	70.049958	10516.828082	6.099315	5.575342	1971.267808	1984.865753	103.685262	443.639726	...	94.244521	46.660274	21.954110	3.409589	15.060959	2.758904	43.489041	6.321918	2007.815753	180921.195890
std	421.610009	42.300571	24.284752	9981.264932	1.382997	1.112799	30.202904	20.645407	181.066207	456.098091	...	125.338794	66.256028	61.119149	29.317331	55.757415	40.177307	496.123024	2.703626	1.328095	79442.502883
min	1.000000	20.000000	21.000000	1300.000000	1.000000	1.000000	1872.000000	1950.000000	0.000000	0.000000	...	0.000000	0.000000	0.000000	0.000000	0.000000	0.000000	0.000000	1.000000	2006.000000	34900.000000
25%	365.750000	20.000000	59.000000	7553.500000	5.000000	5.000000	1954.000000	1967.000000	0.000000	0.000000	...	0.000000	0.000000	0.000000	0.000000	0.000000	0.000000	0.000000	5.000000	2007.000000	129975.000000
50%	730.500000	50.000000	69.000000	9478.500000	6.000000	5.000000	1973.000000	1994.000000	0.000000	383.500000	...	0.000000	25.000000	0.000000	0.000000	0.000000	0.000000	0.000000	6.000000	2008.000000	163000.000000
75%	1095.250000	70.000000	80.000000	11601.500000	7.000000	6.000000	2000.000000	2004.000000	166.000000	712.250000	...	168.000000	68.000000	0.000000	0.000000	0.000000	0.000000	0.000000	8.000000	2009.000000	214000.000000
max	1460.000000	190.000000	313.000000	215245.000000	10.000000	9.000000	2010.000000	2010.000000	1600.000000	5644.000000	...	857.000000	547.000000	552.000000	508.000000	480.000000	738.000000	15500.000000	12.000000	2010.000000	755000.000000
8 rows × 38 columns

as well as identify the quantity of null values and assess whether or not they are meaningful for the price prediction; for this dataset
4 features with nore than 80% of the values missing, features to be dropped:

percentMissing
Alley	94.0
PoolQC	100.0
Fence	81.0
MiscFeature	96.0

After dropping this features, it is important to make sure no NULL values remain, for categorical features (object) "None" is 
placed instead of NULL values and "zero" for numeric features.

Categorical Values:
cols_fillna = ['BsmtQual','BsmtCond','BsmtExposure','BsmtFinType1','BsmtFinType2','GarageType','GarageFinish','GarageQual','FireplaceQu','GarageCond', 'MSZoning','Utilities','Exterior1st','Exterior2nd','MasVnrType','Electrical','KitchenQual','Functional','SaleType']
object_columns_df[cols_fillna]= object_columns_df[cols_fillna].fillna('None')

Numeric Values:
numerical_columns_df.fillna(numerical_columns_df.mean(), inplace=True)

Looking at the variance after removing NULL values, 11 features highly dependant on the mean have been identified (low variance), 
and they should are dropped as are not meningful for the price:
low_var_num = ['BsmtFinSF2','ScreenPorch', 'LowQualFinSF','3SsnPorch','PoolArea','MiscVal']
low_var_cat = ['Utilities','Condition2','RoofMatl','Heating','Street']

4. Linear Regression Model
