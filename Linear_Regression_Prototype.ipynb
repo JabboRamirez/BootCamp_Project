{
 "cells": [
  {
   "cell_type": "code",
   "execution_count": 1,
   "id": "9630835e",
   "metadata": {},
   "outputs": [],
   "source": [
    "# Add the dependencies\n",
    "import pandas as pd\n",
    "import os\n",
    "import matplotlib.pyplot as plt\n",
    "from sklearn.preprocessing import StandardScaler\n",
    "import numpy as np\n",
    "from sklearn.model_selection import train_test_split\n",
    "from sklearn.linear_model import LinearRegression\n",
    "from sklearn import metrics"
   ]
  },
  {
   "cell_type": "code",
   "execution_count": 2,
   "id": "07f3f8be",
   "metadata": {},
   "outputs": [],
   "source": [
    "# Import the data\n",
    "file_to_load = os.path.join(\"train_clean.csv\")\n",
    "train_df = pd.read_csv(file_to_load)"
   ]
  },
  {
   "cell_type": "code",
   "execution_count": 3,
   "id": "7ed2360a",
   "metadata": {},
   "outputs": [],
   "source": [
    "# Define the features set\n",
    "X = train_df.drop(columns=['SalePrice', 'Id'], axis=1)"
   ]
  },
  {
   "cell_type": "code",
   "execution_count": 4,
   "id": "b8a644b1",
   "metadata": {
    "scrolled": true
   },
   "outputs": [],
   "source": [
    "# Define the target set\n",
    "y = train_df[\"SalePrice\"]"
   ]
  },
  {
   "cell_type": "code",
   "execution_count": 5,
   "id": "575a3f21",
   "metadata": {},
   "outputs": [],
   "source": [
    "# Splitting into Train and Test sets.\n",
    "X_train, X_test, y_train, y_test = train_test_split(X, y, random_state=42)"
   ]
  },
  {
   "cell_type": "code",
   "execution_count": 6,
   "id": "87187612",
   "metadata": {},
   "outputs": [],
   "source": [
    "# Linear Regression\n",
    "\n",
    "# Define the model.\n",
    "model = LinearRegression()"
   ]
  },
  {
   "cell_type": "code",
   "execution_count": 7,
   "id": "1ec8645c",
   "metadata": {},
   "outputs": [
    {
     "data": {
      "text/plain": [
       "LinearRegression()"
      ]
     },
     "execution_count": 7,
     "metadata": {},
     "output_type": "execute_result"
    }
   ],
   "source": [
    "# Fitting the model\n",
    "model.fit(X_train, y_train)"
   ]
  },
  {
   "cell_type": "code",
   "execution_count": 8,
   "id": "13a210eb",
   "metadata": {},
   "outputs": [
    {
     "data": {
      "text/plain": [
       "array([149149.53727129, 315921.68030488, 114030.9802078 , 184303.64872835,\n",
       "       320677.72451282,  63735.61267475, 232954.17919264, 144353.98072661,\n",
       "        69020.74203246, 136748.87854002, 157520.55553018, 114987.1608323 ,\n",
       "        98784.95321439, 210743.4878736 , 167232.27334081, 134020.83939208,\n",
       "       215413.30539911, 113449.70076659, 113987.65698981, 230757.03722466,\n",
       "       140136.32262814, 211965.07876617, 192988.87060577, 115214.22991064,\n",
       "       222637.65722278, 157031.88301479, 213250.4437794 ,  73138.97411555,\n",
       "       166658.70417695, 191307.44774845, 146664.27936863, 260124.46344176,\n",
       "       197653.68345385,  95089.07548139, 264498.00852836, 146100.31679898,\n",
       "       127235.57251863, 221588.15146209, 293482.00571433,  90962.19514883,\n",
       "       130294.24045407, 256139.20319929, 109704.23100927, 313870.30739176,\n",
       "       129542.11332606, 161494.20961745,  96463.47363815, 126740.55397335,\n",
       "       384942.70614298, 130886.18965663, 112068.95468896, 223277.92781   ,\n",
       "       106093.34186106, 343788.85297404, 157245.36259736, 243720.66661487,\n",
       "       224438.36486141, 190486.71792846, 132268.2979531 ,  94269.19891916,\n",
       "        78541.8626858 , 158130.53610025, 299148.82832708, 271343.03997925,\n",
       "       287813.72044074, 224257.76454617, 102803.97506616, 318306.86477379,\n",
       "       114124.02171829, 185079.39362854, 109724.23124233, 128646.37585885,\n",
       "        90866.20133234,  56924.26845715, 413010.61475335, 167929.34989483,\n",
       "       283311.25279547, 283597.83877107, 136903.4980331 , 101911.90193729,\n",
       "       119867.30635912,  66897.34675153, 113566.09802653, 117452.0991319 ,\n",
       "       167128.55867544, 124485.17126322, 262596.20482661, 201608.78381054,\n",
       "       153803.35154861, 199472.15285379, 125426.49257767, 124497.12071014,\n",
       "       119281.64450175, 272661.35624151, 100036.4767861 , 196039.35592334,\n",
       "       191247.81629078, 200457.23796599, 207068.26538528, 286482.4948254 ,\n",
       "       177833.95078864, 219823.21852434, 291183.04455925, 124000.28546616,\n",
       "       186415.6038969 , 181505.11944604, 166255.72461006, 251474.15521207,\n",
       "       132577.80056144, 242878.21635804,  28912.36155119, 116903.5163364 ,\n",
       "       135894.2333034 , 120828.49809619, 218348.54402155, 134916.55842522,\n",
       "        95560.32895642, 119099.86780951, 148742.47101815, 259171.47776482,\n",
       "       137294.88058685, 154211.58112169, 179082.88695703, 170446.83003867,\n",
       "       191754.55560239, 133378.05022009, 240041.0033729 ,  77608.08727751,\n",
       "       132813.21492642, 189090.92396939, 194168.267067  , 319097.44312949,\n",
       "       199341.50821106, 124939.31220423,  59347.44409175, 359950.62697583,\n",
       "       325591.736423  , 142581.70312766, 240089.99660735, 496655.05668078,\n",
       "       305626.92957328, 120150.21265688, 201366.85463821, 158592.57645459,\n",
       "        95992.06958467, 116452.68851721, 226636.76886185, 195220.3372609 ,\n",
       "       110057.17825985,  49833.75797265, 122310.37262599, 147913.70629189,\n",
       "       201861.45047961, 159615.57450524,  56132.39148517, 113632.39529708,\n",
       "       136610.10633419, 136705.73339192,  75359.80471025, 141632.2270974 ,\n",
       "       219181.10158435, 118078.74568077, 282414.06125452, 164343.07249672,\n",
       "       106567.71246596, 102452.70166803, 273834.71380998, 329451.759281  ,\n",
       "       389085.38183975, 206399.3987648 , 346569.70797807,  75112.08652834,\n",
       "       103277.39776724, 166495.12927798, 303296.32324031, 110998.39544335,\n",
       "       126436.73351532, 238092.31570079, 118921.92167549, 167260.60597408,\n",
       "       157578.01475927, 162650.6494536 , 118342.95081036, 144446.52185485,\n",
       "       253392.6309372 , 152374.45216086, 281078.22555106, 234420.95143732,\n",
       "       197715.65243963,  63959.22101974, 104299.00176137, 118568.60961106,\n",
       "       104235.20456685, 144741.77071104, 212551.56287709, 201327.85740133,\n",
       "       217144.88809839,  84455.36572786, 231967.78039902, 129170.77490639,\n",
       "       250611.72655155, 185321.58341633,  90708.9078954 , 296961.38359313,\n",
       "       208395.76012766, 110574.10722946, 238805.0058206 , 131509.83621745,\n",
       "       140163.45588766,  94555.23282204, 259288.30164651, 152280.73251497,\n",
       "       111030.47761992, 170569.77181917, 227873.29528408, 256895.13941878,\n",
       "       213956.66280939, 125693.80140276,  96544.98302248, 140563.31330624,\n",
       "       147958.61950578, 221903.60635152, 196758.9067158 ,  95029.32388269,\n",
       "       241243.75375713, 132027.30527894, 101122.1668742 ,  90327.8955383 ,\n",
       "       180434.92813988, 110184.76245166,  91799.74824896, 184912.73859784,\n",
       "       125542.15361947, 109250.02947729, 251718.03958355, 113430.83032276,\n",
       "       201992.66374135, 167881.03723377, 257447.19883248, 115755.41042509,\n",
       "       111342.4651151 , 285952.7710912 , 225177.15638456, 394832.53203928,\n",
       "       210266.16577097, 100802.74267617, 146331.37873953, 185217.07381893,\n",
       "       136382.52265443,  88672.70205014, 191269.75158261, 191955.01523484,\n",
       "       130532.19101959, 121709.44678661, 146690.11790317, 134324.83466036,\n",
       "       109285.44441767, 107651.24917878, 190760.56303971, 253106.6748063 ,\n",
       "       288047.58813506, 193785.1968333 , 116485.63502503, 232034.12417543,\n",
       "       324906.66206438, 243267.35328288, 173254.45750457, 150030.50211195,\n",
       "       125391.50930134, 177638.04776578, 353266.25770435, 203272.27417532,\n",
       "       233548.7639522 ,  71915.13605007,  90355.39391753, 131537.30973786,\n",
       "       160256.51755859, 293029.29491333, 238227.36258158, 135487.49277167,\n",
       "       206246.75494103, 109507.55043564, 196518.56325696, 117632.48082948,\n",
       "       296053.44962489, 191862.90633488, 213122.64698112, 123922.5793454 ,\n",
       "       275755.06150934, 223780.67133422, 123950.98431144, 103535.27176488,\n",
       "       130558.6073812 , 185484.67911569,  94303.50712111, 189063.95713905,\n",
       "       162517.32277915, 129608.72630877, 191119.52111457, 122700.12382362,\n",
       "       197947.50257208, 242791.93044317, 115064.13056326, 151271.91076891,\n",
       "       199103.41029534, 210268.58164881, 154618.5928193 , 221932.85302707,\n",
       "       238578.50936248, 124666.25896055, 148570.07926997, 198477.89261732,\n",
       "        74567.69735575, 210042.22080096, 130474.11949954, 192323.68854624,\n",
       "       204764.40241367, 174282.4781818 , 282299.91145449,  61848.4544009 ,\n",
       "       214760.76373999, 130954.02224109, 132822.0720161 ,  85618.81752857,\n",
       "       209603.40786874, 147048.410174  , 140461.97308957, 213116.01152292,\n",
       "       154672.12748701,  75262.12957974, 147424.47145661, 160052.90515888,\n",
       "       143269.29103764, 191216.78621103, 167978.19611081, 112831.20216192,\n",
       "       135656.15471746,  41359.66394997,  88283.17756728, 209899.4080482 ,\n",
       "       192787.386391  , 139649.19394971, 107884.89791664, 202354.6586253 ,\n",
       "       255989.24592054, 375211.89976562, 331812.01954973, 117074.42715373,\n",
       "       256088.70218246, 104845.29607699, 296146.87867161, 362808.69876129,\n",
       "       266426.90322873, 196167.75671052, 255252.27263048, 143461.6450267 ,\n",
       "       116499.39067787,  85001.45993389, 219752.95764658, 312974.8031721 ,\n",
       "       200287.13206073, 112760.95728823, 238721.51750199, 237474.9021324 ,\n",
       "       130033.31288623])"
      ]
     },
     "execution_count": 8,
     "metadata": {},
     "output_type": "execute_result"
    }
   ],
   "source": [
    "# Making predictions using the testing data.\n",
    "predictions = model.predict(X_test)\n",
    "predictions"
   ]
  },
  {
   "cell_type": "code",
   "execution_count": 9,
   "id": "e92c4138",
   "metadata": {},
   "outputs": [
    {
     "data": {
      "text/html": [
       "<div>\n",
       "<style scoped>\n",
       "    .dataframe tbody tr th:only-of-type {\n",
       "        vertical-align: middle;\n",
       "    }\n",
       "\n",
       "    .dataframe tbody tr th {\n",
       "        vertical-align: top;\n",
       "    }\n",
       "\n",
       "    .dataframe thead th {\n",
       "        text-align: right;\n",
       "    }\n",
       "</style>\n",
       "<table border=\"1\" class=\"dataframe\">\n",
       "  <thead>\n",
       "    <tr style=\"text-align: right;\">\n",
       "      <th></th>\n",
       "      <th>Real Values</th>\n",
       "      <th>Predicted Values</th>\n",
       "    </tr>\n",
       "  </thead>\n",
       "  <tbody>\n",
       "    <tr>\n",
       "      <th>892</th>\n",
       "      <td>154500</td>\n",
       "      <td>149149.537271</td>\n",
       "    </tr>\n",
       "    <tr>\n",
       "      <th>1105</th>\n",
       "      <td>325000</td>\n",
       "      <td>315921.680305</td>\n",
       "    </tr>\n",
       "    <tr>\n",
       "      <th>413</th>\n",
       "      <td>115000</td>\n",
       "      <td>114030.980208</td>\n",
       "    </tr>\n",
       "    <tr>\n",
       "      <th>522</th>\n",
       "      <td>159000</td>\n",
       "      <td>184303.648728</td>\n",
       "    </tr>\n",
       "    <tr>\n",
       "      <th>1036</th>\n",
       "      <td>315500</td>\n",
       "      <td>320677.724513</td>\n",
       "    </tr>\n",
       "    <tr>\n",
       "      <th>...</th>\n",
       "      <td>...</td>\n",
       "      <td>...</td>\n",
       "    </tr>\n",
       "    <tr>\n",
       "      <th>988</th>\n",
       "      <td>195000</td>\n",
       "      <td>200287.132061</td>\n",
       "    </tr>\n",
       "    <tr>\n",
       "      <th>243</th>\n",
       "      <td>120000</td>\n",
       "      <td>112760.957288</td>\n",
       "    </tr>\n",
       "    <tr>\n",
       "      <th>1342</th>\n",
       "      <td>228500</td>\n",
       "      <td>238721.517502</td>\n",
       "    </tr>\n",
       "    <tr>\n",
       "      <th>1057</th>\n",
       "      <td>248000</td>\n",
       "      <td>237474.902132</td>\n",
       "    </tr>\n",
       "    <tr>\n",
       "      <th>1418</th>\n",
       "      <td>124000</td>\n",
       "      <td>130033.312886</td>\n",
       "    </tr>\n",
       "  </tbody>\n",
       "</table>\n",
       "<p>365 rows × 2 columns</p>\n",
       "</div>"
      ],
      "text/plain": [
       "      Real Values  Predicted Values\n",
       "892        154500     149149.537271\n",
       "1105       325000     315921.680305\n",
       "413        115000     114030.980208\n",
       "522        159000     184303.648728\n",
       "1036       315500     320677.724513\n",
       "...           ...               ...\n",
       "988        195000     200287.132061\n",
       "243        120000     112760.957288\n",
       "1342       228500     238721.517502\n",
       "1057       248000     237474.902132\n",
       "1418       124000     130033.312886\n",
       "\n",
       "[365 rows x 2 columns]"
      ]
     },
     "execution_count": 9,
     "metadata": {},
     "output_type": "execute_result"
    }
   ],
   "source": [
    "results = pd.DataFrame({'Real Values':y_test, 'Predicted Values': predictions})\n",
    "results"
   ]
  },
  {
   "cell_type": "code",
   "execution_count": 10,
   "id": "bbe3eecd",
   "metadata": {},
   "outputs": [
    {
     "name": "stdout",
     "output_type": "stream",
     "text": [
      "Score: 0.845891396037588\n",
      "MAE: 21253.85812554918\n",
      "MSE: 1079578398.3812597\n",
      "RMSE: 32856.938359823784\n"
     ]
    }
   ],
   "source": [
    "print(\"Score:\", model.score(X_test, y_test))\n",
    "print('MAE:', metrics.mean_absolute_error(y_test, predictions))\n",
    "print('MSE:', metrics.mean_squared_error(y_test, predictions))\n",
    "print('RMSE:', np.sqrt(metrics.mean_squared_error(y_test, predictions)))"
   ]
  },
  {
   "cell_type": "code",
   "execution_count": 11,
   "id": "8e5185a6",
   "metadata": {},
   "outputs": [
    {
     "data": {
      "text/plain": [
       "Text(0.5, 1.0, 'Linear Regression Model')"
      ]
     },
     "execution_count": 11,
     "metadata": {},
     "output_type": "execute_result"
    },
    {
     "data": {
      "image/png": "[encoded data removed]",
      "text/plain": [
       "<Figure size 432x288 with 1 Axes>"
      ]
     },
     "metadata": {
      "needs_background": "light"
     },
     "output_type": "display_data"
    }
   ],
   "source": [
    "plt.scatter(predictions, y_test, alpha = 0.7, color = 'b')\n",
    "plt.xlabel('Predicted Price')\n",
    "plt.ylabel('Actual Price')\n",
    "plt.title('Linear Regression Model')"
   ]
  },
  {
   "cell_type": "code",
   "execution_count": null,
   "id": "59de1dd3",
   "metadata": {},
   "outputs": [],
   "source": []
  }
 ],
 "metadata": {
  "kernelspec": {
   "display_name": "mlenv",
   "language": "python",
   "name": "mlenv"
  },
  "language_info": {
   "codemirror_mode": {
    "name": "ipython",
    "version": 3
   },
   "file_extension": ".py",
   "mimetype": "text/x-python",
   "name": "python",
   "nbconvert_exporter": "python",
   "pygments_lexer": "ipython3",
   "version": "3.7.11"
  }
 },
 "nbformat": 4,
 "nbformat_minor": 5
}
